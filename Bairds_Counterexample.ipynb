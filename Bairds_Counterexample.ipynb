{
 "cells": [
  {
   "cell_type": "code",
   "execution_count": 1,
   "metadata": {},
   "outputs": [],
   "source": [
    "import numpy as np\n",
    "import sys \n",
    "\n",
    "assert sys.version_info[:3] >= (3, 6, 0), \"Make sure you have Python 3.6 installed!\""
   ]
  },
  {
   "cell_type": "markdown",
   "metadata": {},
   "source": [
    "# Baird's Counterexample\n",
    "Baird's counterexample is described in Section 11.2 of the book. For your convenience, we have implemented it below."
   ]
  },
  {
   "cell_type": "code",
   "execution_count": 2,
   "metadata": {},
   "outputs": [],
   "source": [
    "class BairdsCounterExample:                                                                      \n",
    "    def __init__(self):\n",
    "        self.n_states = 7\n",
    "    \n",
    "    def reset(self):\n",
    "        self.current = np.random.choice(np.arange(0, 6))\n",
    "        return self.current \n",
    "    \n",
    "    def step(self, action):\n",
    "        if action == 1:\n",
    "            self.current = 6\n",
    "        elif action == 0:\n",
    "            self.current = np.random.choice(np.arange(0, 6))\n",
    "        done = False\n",
    "        return self.current, 0, done, \"\"    "
   ]
  },
  {
   "cell_type": "markdown",
   "metadata": {},
   "source": [
    "## Semi-Gradient TD(0)\n",
    "Implement Semi-Gradient TD(0) (Equation 11.2 in the book) and plot the values of each weight. Use for your weight vector $w \\in \\mathbb{R}^8$, with the linear parameterization as given in Figure 11.1 of the book. Use a step size of $\\alpha=0.01$, a discount factor of $\\gamma=0.99$ and initialize the weights as $w=(1, 1, 1, 1, 1, 1, 10, 1)$ and run for 1000 steps."
   ]
  },
  {
   "cell_type": "code",
   "execution_count": 4,
   "metadata": {},
   "outputs": [],
   "source": [
    "def semi_gradient_td(env, policy, num_steps, alpha=0.01, discount_factor=0.99):\n",
    "    \"\"\"\n",
    "    Semi-gradien TD(0) algorithm: Finds the optimal state-value function using a behavior policy to select \n",
    "    actions while learning about a target policy.\n",
    "    \n",
    "    Args:\n",
    "        env: Environment class object.\n",
    "        policy: A behavior policy which allows us to sample actions.\n",
    "        num_steps: Number of update steps to run for.\n",
    "        alpha: Update step-size.\n",
    "        discount_factor: Gamma discount factor.\n",
    "    \n",
    "    \"\"\"\n",
    "    # initialize weights\n",
    "    w = np.array([1,1,1,1,1,1,10,1])\n",
    "    \n",
    "    return w, V\n",
    "\n",
    "# now plot the values of each weight over the 1000 update steps\n",
    "# YOUR CODE HERE"
   ]
  },
  {
   "cell_type": "markdown",
   "metadata": {},
   "source": [
    "#### What do you notice in the plot? Why do you think that might be the case? "
   ]
  }
 ],
 "metadata": {
  "kernelspec": {
   "display_name": "Python 3",
   "language": "python",
   "name": "python3"
  },
  "language_info": {
   "codemirror_mode": {
    "name": "ipython",
    "version": 3
   },
   "file_extension": ".py",
   "mimetype": "text/x-python",
   "name": "python",
   "nbconvert_exporter": "python",
   "pygments_lexer": "ipython3",
   "version": "3.7.16"
  }
 },
 "nbformat": 4,
 "nbformat_minor": 4
}
